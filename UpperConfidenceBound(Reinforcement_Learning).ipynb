{
  "nbformat": 4,
  "nbformat_minor": 0,
  "metadata": {
    "colab": {
      "name": "UpperConfidenceBound(Reinforcement Learning).ipynb",
      "provenance": [],
      "authorship_tag": "ABX9TyMwVjHTDFx7kNCuo01hIsAD",
      "include_colab_link": true
    },
    "kernelspec": {
      "name": "python3",
      "display_name": "Python 3"
    },
    "language_info": {
      "name": "python"
    }
  },
  "cells": [
    {
      "cell_type": "markdown",
      "metadata": {
        "id": "view-in-github",
        "colab_type": "text"
      },
      "source": [
        "<a href=\"https://colab.research.google.com/github/shreyashganvir77/Learn.MachineLearning.python/blob/main/UpperConfidenceBound(Reinforcement_Learning).ipynb\" target=\"_parent\"><img src=\"https://colab.research.google.com/assets/colab-badge.svg\" alt=\"Open In Colab\"/></a>"
      ]
    },
    {
      "cell_type": "markdown",
      "metadata": {
        "id": "g-xmaIuFZUxK"
      },
      "source": [
        "Importing the Librabries"
      ]
    },
    {
      "cell_type": "code",
      "metadata": {
        "id": "_r3aqsAbZX1Q"
      },
      "source": [
        "import pandas as pd\n",
        "import numpy as np\n",
        "import matplotlib.pyplot as plt"
      ],
      "execution_count": 3,
      "outputs": []
    },
    {
      "cell_type": "markdown",
      "metadata": {
        "id": "rGHDRB7cZfLs"
      },
      "source": [
        "Importing the Dataset."
      ]
    },
    {
      "cell_type": "code",
      "metadata": {
        "id": "HiMn0WUVZhl7"
      },
      "source": [
        "dataset = pd.read_csv('Ads_CTR_Optimisation.csv')"
      ],
      "execution_count": 4,
      "outputs": []
    },
    {
      "cell_type": "markdown",
      "metadata": {
        "id": "8D5fYncfZzm8"
      },
      "source": [
        "Implementing UCB."
      ]
    },
    {
      "cell_type": "code",
      "metadata": {
        "id": "jXO2pv5XZ2IM"
      },
      "source": [
        "# The Reinforcement Learning is some what similar to control system feeback loop.\n",
        "# Here, there is an agent which performs certain task on the enviorment and for that task agent may or may not recive the reward. \n",
        "# If there is reward in feedback then the agent learns from that reward and updated it's accuracy. \n",
        "# Here the problem set deals is similar to Multi-Armed Bandit problem. Similar to Multi-Armed Bandit here we have no of ads selection by the user.\n",
        "# There are 10 different ads displayed on the web page and we have a data weather user selected ad as 1 and no selection is 0.\n",
        "# There are total 1000 Rounds for this purpose, later we can analyze the minimum number of rounds required to reach the conclusion(here, the distibution of selection)\n",
        "# The MUlti-Armed Bandit problem deals the exploaration and exploitaion of the machine and this is carried for 10000 rounds.\n",
        "# The mathematical approach for this problem can be seen below.\n",
        "\n",
        "# The UCB approach on the Multi-Armed Bandit problem is deterministic and reuires a update on every round.\n",
        "\n",
        "import math\n",
        "\n",
        "N = 10000\n",
        "d = 10\n",
        "ads_selected = []\n",
        "number_of_selection = [0] * d\n",
        "sum_of_rewards = [0] * d\n",
        "total_reward = 0\n",
        "\n",
        "for n in range (0, N):\n",
        "  ad = 0\n",
        "  max_upper_bound = 0\n",
        "  for i in range (0, d):\n",
        "    if (number_of_selection[i] > 0):  \n",
        "      avg_reward = sum_of_rewards[i]/number_of_selection[i]\n",
        "      delta_i = math.sqrt(3/2 * math.log(n+1)/number_of_selection[i]) \n",
        "      upper_bound = delta_i + avg_reward\n",
        "    else:\n",
        "      upper_bound = 1e400\n",
        "    if (upper_bound > max_upper_bound):\n",
        "      max_upper_bound = upper_bound\n",
        "      ad = i  \n",
        "  ads_selected.append(ad)\n",
        "  number_of_selection[ad] += 1\n",
        "  reward = dataset.values[n, ad] \n",
        "  sum_of_rewards[ad] += reward\n",
        "  total_reward += reward\n"
      ],
      "execution_count": 5,
      "outputs": []
    },
    {
      "cell_type": "markdown",
      "metadata": {
        "id": "iBRfFYULhGsV"
      },
      "source": [
        "Visualizing the Results."
      ]
    },
    {
      "cell_type": "code",
      "metadata": {
        "colab": {
          "base_uri": "https://localhost:8080/",
          "height": 295
        },
        "id": "Awb1JOMwiKvm",
        "outputId": "65507d1d-ab9d-4591-cbdf-a463d302804f"
      },
      "source": [
        "plt.hist(ads_selected)\n",
        "plt.title('Histogram of Ads Selected')\n",
        "plt.xlabel('Ads')\n",
        "plt.ylabel('No of times each ad was Selected')\n",
        "plt.show()"
      ],
      "execution_count": 6,
      "outputs": [
        {
          "output_type": "display_data",
          "data": {
            "image/png": "[encoded data removed]",
            "text/plain": [
              "<Figure size 432x288 with 1 Axes>"
            ]
          },
          "metadata": {
            "tags": [],
            "needs_background": "light"
          }
        }
      ]
    }
  ]
}