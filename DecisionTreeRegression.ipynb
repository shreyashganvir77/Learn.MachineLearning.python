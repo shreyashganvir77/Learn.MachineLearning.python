{
  "nbformat": 4,
  "nbformat_minor": 0,
  "metadata": {
    "colab": {
      "name": "DecisionTreeRegression.ipynb",
      "provenance": [],
      "authorship_tag": "ABX9TyMtci9jFgn6LOls3eBs7eB2",
      "include_colab_link": true
    },
    "kernelspec": {
      "name": "python3",
      "display_name": "Python 3"
    },
    "language_info": {
      "name": "python"
    }
  },
  "cells": [
    {
      "cell_type": "markdown",
      "metadata": {
        "id": "view-in-github",
        "colab_type": "text"
      },
      "source": [
        "<a href=\"https://colab.research.google.com/github/shreyashganvir77/Learn.MachineLearning.python/blob/main/DecisionTreeRegression.ipynb\" target=\"_parent\"><img src=\"https://colab.research.google.com/assets/colab-badge.svg\" alt=\"Open In Colab\"/></a>"
      ]
    },
    {
      "cell_type": "markdown",
      "metadata": {
        "id": "ktbiXWjvzwGJ"
      },
      "source": [
        "Importing the librabries."
      ]
    },
    {
      "cell_type": "code",
      "metadata": {
        "id": "WjLbr0hhzzDd"
      },
      "source": [
        "import numpy as np\n",
        "import pandas as pd\n",
        "import matplotlib.pyplot as plt"
      ],
      "execution_count": 5,
      "outputs": []
    },
    {
      "cell_type": "markdown",
      "metadata": {
        "id": "ll4C6Nj80Y6g"
      },
      "source": [
        "Importing the dataset."
      ]
    },
    {
      "cell_type": "code",
      "metadata": {
        "id": "MfKXZ-J20hl3"
      },
      "source": [
        "# When applying DecisionTreeRegression in the dataset we don't need feature scaling.\n",
        "# Also when we apply this model on large dataset, we should check for the missing data's and categorical data and make them correct.\n",
        "\n",
        "dataset = pd.read_csv('Position_Salaries.csv')\n",
        "x = dataset.iloc[ :, 1:-1].values\n",
        "y = dataset.iloc[ :, -1].values\n",
        "y = y.reshape(len(y), 1)"
      ],
      "execution_count": 6,
      "outputs": []
    },
    {
      "cell_type": "markdown",
      "metadata": {
        "id": "AJ5vF4OwbbaS"
      },
      "source": [
        "Training the Decision tree model on the whole datatset."
      ]
    },
    {
      "cell_type": "code",
      "metadata": {
        "colab": {
          "base_uri": "https://localhost:8080/"
        },
        "id": "yuniRSimbvLJ",
        "outputId": "3d0bac97-8e1b-43b3-c9e1-a6f77f945c7e"
      },
      "source": [
        "# The DecisionTreeRegressor divides the dataset into binary tree according to the data.\n",
        "# It divides the data ar certain point and then again at a point, until there is leaf node or the alogrithm finds there is no need to divide the data again.\n",
        "# The codition of the splits helps to predict a particular data.\n",
        "# This data is search through the tree codintions until the leaf node and the answers is the avg of points in the leaf node.\n",
        "# To Implement this we use scikit learn calss of DecisionTreeRegressor\n",
        "\n",
        "from sklearn.tree import DecisionTreeRegressor\n",
        "regressor = DecisionTreeRegressor(random_state = 0)\n",
        "regressor.fit(x, y)"
      ],
      "execution_count": 7,
      "outputs": [
        {
          "output_type": "execute_result",
          "data": {
            "text/plain": [
              "DecisionTreeRegressor(ccp_alpha=0.0, criterion='mse', max_depth=None,\n",
              "                      max_features=None, max_leaf_nodes=None,\n",
              "                      min_impurity_decrease=0.0, min_impurity_split=None,\n",
              "                      min_samples_leaf=1, min_samples_split=2,\n",
              "                      min_weight_fraction_leaf=0.0, presort='deprecated',\n",
              "                      random_state=0, splitter='best')"
            ]
          },
          "metadata": {
            "tags": []
          },
          "execution_count": 7
        }
      ]
    },
    {
      "cell_type": "markdown",
      "metadata": {
        "id": "f5SCcn56ctmH"
      },
      "source": [
        "Predicting the new Result."
      ]
    },
    {
      "cell_type": "code",
      "metadata": {
        "colab": {
          "base_uri": "https://localhost:8080/"
        },
        "id": "MhSNBNIdcvp8",
        "outputId": "fe6f65d1-f5b9-404b-a19b-50a77741c2e8"
      },
      "source": [
        "regressor.predict([[6.5]])"
      ],
      "execution_count": 11,
      "outputs": [
        {
          "output_type": "execute_result",
          "data": {
            "text/plain": [
              "array([150000.])"
            ]
          },
          "metadata": {
            "tags": []
          },
          "execution_count": 11
        }
      ]
    },
    {
      "cell_type": "markdown",
      "metadata": {
        "id": "0NFPObPWc_ds"
      },
      "source": [
        "Visualizing the Decision Tree Regression(Higher Resolution)"
      ]
    },
    {
      "cell_type": "code",
      "metadata": {
        "colab": {
          "base_uri": "https://localhost:8080/",
          "height": 295
        },
        "id": "8_DDW2v2dHAC",
        "outputId": "92b9ac67-0889-4e65-c207-118926ac1def"
      },
      "source": [
        "# In this plot we can see the that there are staright lines at the datapoints.\n",
        "# This is because the DecisionTree algorithm predicts avg values in the range form 1-2, 2-3, and so on. \n",
        "\n",
        "x_grid = np.arange(min(x), max(x), 0.1)\n",
        "x_grid =  x_grid.reshape(len(x_grid), 1) \n",
        "plt.scatter(x, y, color='red')\n",
        "plt.plot(x_grid, regressor.predict(x_grid), color='blue')\n",
        "plt.title(\"Catch the bluff with DecisionTreeRegression\")\n",
        "plt.xlabel('Position Level')\n",
        "plt.ylabel('Salary')\n",
        "plt.show()"
      ],
      "execution_count": 21,
      "outputs": [
        {
          "output_type": "display_data",
          "data": {
            "image/png": "[encoded data removed]",
            "text/plain": [
              "<Figure size 432x288 with 1 Axes>"
            ]
          },
          "metadata": {
            "tags": [],
            "needs_background": "light"
          }
        }
      ]
    }
  ]
}