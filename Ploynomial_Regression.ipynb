{
  "nbformat": 4,
  "nbformat_minor": 0,
  "metadata": {
    "colab": {
      "name": "Ploynomial Regression.ipynb",
      "provenance": [],
      "authorship_tag": "ABX9TyPuaYvocF6Qc+/+HLIK7f1N",
      "include_colab_link": true
    },
    "kernelspec": {
      "name": "python3",
      "display_name": "Python 3"
    },
    "language_info": {
      "name": "python"
    }
  },
  "cells": [
    {
      "cell_type": "markdown",
      "metadata": {
        "id": "view-in-github",
        "colab_type": "text"
      },
      "source": [
        "<a href=\"https://colab.research.google.com/github/shreyashganvir77/Learn.MachineLearning.python/blob/main/Ploynomial_Regression.ipynb\" target=\"_parent\"><img src=\"https://colab.research.google.com/assets/colab-badge.svg\" alt=\"Open In Colab\"/></a>"
      ]
    },
    {
      "cell_type": "markdown",
      "metadata": {
        "id": "Am3H3Q8ghukr"
      },
      "source": [
        "Importing the libraries."
      ]
    },
    {
      "cell_type": "code",
      "metadata": {
        "id": "xEkiR0ujhvCc"
      },
      "source": [
        "import numpy as np\n",
        "import matplotlib.pyplot as plt\n",
        "import pandas as pd"
      ],
      "execution_count": 2,
      "outputs": []
    },
    {
      "cell_type": "markdown",
      "metadata": {
        "id": "kYhpKSZvh4im"
      },
      "source": [
        "Importing the dataset."
      ]
    },
    {
      "cell_type": "code",
      "metadata": {
        "id": "MfBT9zQJh6jg"
      },
      "source": [
        "dataset = pd.read_csv('Position_Salaries.csv')\n",
        "x = dataset.iloc[ :, 1:-1].values\n",
        "y = dataset.iloc[ :, -1].values"
      ],
      "execution_count": 3,
      "outputs": []
    },
    {
      "cell_type": "markdown",
      "metadata": {
        "id": "uDrIziXziqJF"
      },
      "source": [
        "Training the LinearRegeression model for the dataset."
      ]
    },
    {
      "cell_type": "code",
      "metadata": {
        "colab": {
          "base_uri": "https://localhost:8080/"
        },
        "id": "Rg7tTq39i1JI",
        "outputId": "5bcd3d9d-b692-4697-b7f3-e06894507b3f"
      },
      "source": [
        "from sklearn.linear_model import LinearRegression\n",
        "lin_reg = LinearRegression()\n",
        "lin_reg.fit(x, y)"
      ],
      "execution_count": 4,
      "outputs": [
        {
          "output_type": "execute_result",
          "data": {
            "text/plain": [
              "LinearRegression(copy_X=True, fit_intercept=True, n_jobs=None, normalize=False)"
            ]
          },
          "metadata": {
            "tags": []
          },
          "execution_count": 4
        }
      ]
    },
    {
      "cell_type": "markdown",
      "metadata": {
        "id": "nEa0XKPvM78r"
      },
      "source": [
        "Training the PloynomialRegression Model on the dataset."
      ]
    },
    {
      "cell_type": "code",
      "metadata": {
        "colab": {
          "base_uri": "https://localhost:8080/"
        },
        "id": "spaot0zFNCIG",
        "outputId": "20e7f60e-0af9-4097-b3cf-e2eb94701b3a"
      },
      "source": [
        "# The polynomial regression model is build using the same linear regression calss.\n",
        "# As the coefficeints of the eauation are considered to linear (y = b0 + b1*x1 + b2*x1^2 + .... bn*x1^n)\n",
        "# The PolynomialFeatures class is used to seat and actually transform the eaution as above(By specifying the degree of the equation).\n",
        "\n",
        "from sklearn.preprocessing import PolynomialFeatures\n",
        "poly_reg = PolynomialFeatures(4)\n",
        "x_poly = poly_reg.fit_transform(x)\n",
        "\n",
        "lin_reg2 = LinearRegression()\n",
        "lin_reg2.fit(x_poly, y)"
      ],
      "execution_count": 28,
      "outputs": [
        {
          "output_type": "execute_result",
          "data": {
            "text/plain": [
              "LinearRegression(copy_X=True, fit_intercept=True, n_jobs=None, normalize=False)"
            ]
          },
          "metadata": {
            "tags": []
          },
          "execution_count": 28
        }
      ]
    },
    {
      "cell_type": "markdown",
      "metadata": {
        "id": "yfE482lfP_Ql"
      },
      "source": [
        "Visualizing the LinearRegression Result."
      ]
    },
    {
      "cell_type": "code",
      "metadata": {
        "colab": {
          "base_uri": "https://localhost:8080/",
          "height": 295
        },
        "id": "DCn69MJaP-T5",
        "outputId": "6541e70d-6803-451b-e74b-9d560f1be3ce"
      },
      "source": [
        "plt.scatter(x, y, color='red')\n",
        "plt.plot(x, lin_reg.predict(x), color='blue')\n",
        "plt.title('Catch the truth about Salary')\n",
        "plt.xlabel('Level of Working')\n",
        "plt.ylabel('Salary')\n",
        "plt.show()"
      ],
      "execution_count": 16,
      "outputs": [
        {
          "output_type": "display_data",
          "data": {
            "image/png": "[encoded data removed]",
            "text/plain": [
              "<Figure size 432x288 with 1 Axes>"
            ]
          },
          "metadata": {
            "tags": [],
            "needs_background": "light"
          }
        }
      ]
    },
    {
      "cell_type": "markdown",
      "metadata": {
        "id": "ASTRWx0sQziY"
      },
      "source": [
        "Visualizing the PolynomialRegression Result."
      ]
    },
    {
      "cell_type": "code",
      "metadata": {
        "colab": {
          "base_uri": "https://localhost:8080/",
          "height": 295
        },
        "id": "wRIYcDfCQ40i",
        "outputId": "d42803fb-50e3-4a09-ddc9-3d7018f5cf02"
      },
      "source": [
        "plt.scatter(x, y, color='red')\n",
        "plt.plot(x, lin_reg2.predict(x_poly), color='blue')\n",
        "plt.title('Catch the truth about Salary')\n",
        "plt.xlabel('Level of Working')\n",
        "plt.ylabel('Salary')\n",
        "plt.show()"
      ],
      "execution_count": 23,
      "outputs": [
        {
          "output_type": "display_data",
          "data": {
            "image/png": "[encoded data removed]",
            "text/plain": [
              "<Figure size 432x288 with 1 Axes>"
            ]
          },
          "metadata": {
            "tags": [],
            "needs_background": "light"
          }
        }
      ]
    },
    {
      "cell_type": "markdown",
      "metadata": {
        "id": "RDjxLO7WRcFH"
      },
      "source": [
        "Visualizing PolynomialRegression Results (for higher Resolution and smoother Curve)."
      ]
    },
    {
      "cell_type": "code",
      "metadata": {
        "colab": {
          "base_uri": "https://localhost:8080/",
          "height": 295
        },
        "id": "YZ1lgKRnRsBF",
        "outputId": "a9e8bcd1-737e-4ca7-aa6e-8418ae4a7467"
      },
      "source": [
        "x_grid = np.arange(min(x), max(x), 0.1)\n",
        "x_grid = x_grid.reshape(len(x_grid), 1)\n",
        "plt.scatter(x, y, color='red')\n",
        "plt.plot(x_grid, lin_reg2.predict(poly_reg.fit_transform(x_grid)), color='blue')\n",
        "plt.title('Catch the truth about Salary')\n",
        "plt.xlabel('Level of Working')\n",
        "plt.ylabel('Salary')\n",
        "plt.show()"
      ],
      "execution_count": 29,
      "outputs": [
        {
          "output_type": "display_data",
          "data": {
            "image/png": "[encoded data removed]",
            "text/plain": [
              "<Figure size 432x288 with 1 Axes>"
            ]
          },
          "metadata": {
            "tags": [],
            "needs_background": "light"
          }
        }
      ]
    },
    {
      "cell_type": "markdown",
      "metadata": {
        "id": "1aCFJZfrTJ3c"
      },
      "source": [
        "Predicting a New Result with LinearRegression."
      ]
    },
    {
      "cell_type": "code",
      "metadata": {
        "colab": {
          "base_uri": "https://localhost:8080/"
        },
        "id": "qQQH-2xATPUH",
        "outputId": "345bc15f-4c77-482a-dd4c-09429b9e2ba8"
      },
      "source": [
        "# The predict function accepts the 2D array so convert our single value to 2D array.\n",
        "# For predicting the polynomialRegression model convert the array to polynomial features eaution and then we get the desired Result.\n",
        "\n",
        "print(lin_reg.predict([[6.5]]))\n",
        "print(lin_reg2.predict(poly_reg.fit_transform([[6.5]])))"
      ],
      "execution_count": 38,
      "outputs": [
        {
          "output_type": "stream",
          "text": [
            "[330378.78787879]\n",
            "[158862.45265155]\n"
          ],
          "name": "stdout"
        }
      ]
    }
  ]
}