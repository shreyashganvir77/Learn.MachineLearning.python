{
  "nbformat": 4,
  "nbformat_minor": 0,
  "metadata": {
    "colab": {
      "name": "Data Preprocessing.ipynb",
      "provenance": [],
      "authorship_tag": "ABX9TyMSrOwocTRp7qQ+Cu9ghqa4",
      "include_colab_link": true
    },
    "kernelspec": {
      "name": "python3",
      "display_name": "Python 3"
    },
    "language_info": {
      "name": "python"
    }
  },
  "cells": [
    {
      "cell_type": "markdown",
      "metadata": {
        "id": "view-in-github",
        "colab_type": "text"
      },
      "source": [
        "<a href=\"https://colab.research.google.com/github/shreyashganvir77/Learn.MachineLearning.python/blob/main/Data_Preprocessing.ipynb\" target=\"_parent\"><img src=\"https://colab.research.google.com/assets/colab-badge.svg\" alt=\"Open In Colab\"/></a>"
      ]
    },
    {
      "cell_type": "markdown",
      "metadata": {
        "id": "x-qBg65DGLU3"
      },
      "source": [
        "Importing the libraries."
      ]
    },
    {
      "cell_type": "code",
      "metadata": {
        "id": "7A0vnvGcGPbO"
      },
      "source": [
        "import numpy as np\n",
        "import matplotlib.pyplot as plt\n",
        "import pandas as pd"
      ],
      "execution_count": 3,
      "outputs": []
    },
    {
      "cell_type": "markdown",
      "metadata": {
        "id": "gQYjT_t_GX21"
      },
      "source": [
        "Importing the dataset."
      ]
    },
    {
      "cell_type": "code",
      "metadata": {
        "id": "C2tw-yCXGZ7l",
        "colab": {
          "base_uri": "https://localhost:8080/"
        },
        "outputId": "549180a1-1b44-4e46-9388-0595773486a8"
      },
      "source": [
        "#pandas library is used to read the csv file.\n",
        "#the data read is stored as a data frame, which can be accessed as the row and column matrix, with iloc fuction.\n",
        "dataset = pd.read_csv('Data.csv')\n",
        "x = dataset.iloc[ :, :-1].values\n",
        "y = dataset.iloc[ :, -1].values\n",
        "print(x)\n",
        "print(y)"
      ],
      "execution_count": 6,
      "outputs": [
        {
          "output_type": "stream",
          "text": [
            "[['France' 44.0 72000.0]\n",
            " ['Spain' 27.0 48000.0]\n",
            " ['Germany' 30.0 54000.0]\n",
            " ['Spain' 38.0 61000.0]\n",
            " ['Germany' 40.0 nan]\n",
            " ['France' 35.0 58000.0]\n",
            " ['Spain' nan 52000.0]\n",
            " ['France' 48.0 79000.0]\n",
            " ['Germany' 50.0 83000.0]\n",
            " ['France' 37.0 67000.0]]\n",
            "['No' 'Yes' 'No' 'No' 'Yes' 'Yes' 'No' 'Yes' 'No' 'Yes']\n"
          ],
          "name": "stdout"
        }
      ]
    },
    {
      "cell_type": "markdown",
      "metadata": {
        "id": "Lf-A02HSHWCo"
      },
      "source": [
        "Handling the missing data."
      ]
    },
    {
      "cell_type": "code",
      "metadata": {
        "id": "9RU_Pg48HjrM",
        "colab": {
          "base_uri": "https://localhost:8080/"
        },
        "outputId": "7f7a58c6-0ce4-4f6c-b5e6-9df1f0192f0b"
      },
      "source": [
        "#the missing values can be replaces with average of column.\n",
        "#or using mean and median also.\n",
        "#sklearn library\n",
        "\n",
        "from sklearn.impute import SimpleImputer\n",
        "imputer = SimpleImputer(missing_values=np.nan, strategy = 'mean')\n",
        "imputer.fit(x[:, 1:3])\n",
        "x[:, 1:3] = imputer.transform(x[:, 1:3])\n",
        "print(x)"
      ],
      "execution_count": 7,
      "outputs": [
        {
          "output_type": "stream",
          "text": [
            "[['France' 44.0 72000.0]\n",
            " ['Spain' 27.0 48000.0]\n",
            " ['Germany' 30.0 54000.0]\n",
            " ['Spain' 38.0 61000.0]\n",
            " ['Germany' 40.0 63777.77777777778]\n",
            " ['France' 35.0 58000.0]\n",
            " ['Spain' 38.77777777777778 52000.0]\n",
            " ['France' 48.0 79000.0]\n",
            " ['Germany' 50.0 83000.0]\n",
            " ['France' 37.0 67000.0]]\n"
          ],
          "name": "stdout"
        }
      ]
    },
    {
      "cell_type": "markdown",
      "metadata": {
        "id": "hC0yikYLKao-"
      },
      "source": [
        "Encoding Categorical Data."
      ]
    },
    {
      "cell_type": "code",
      "metadata": {
        "id": "LwMZmwtWKeby",
        "colab": {
          "base_uri": "https://localhost:8080/"
        },
        "outputId": "82b32ed8-b0f8-4507-da86-96ed84d411b9"
      },
      "source": [
        "#In encodings use the oneHotEncoding method which converts the repeating strings in the column into binary values.\n",
        "#For example France is encoded as 100, spain as 001 and germany as 010.\n",
        "\n",
        "from sklearn.compose import ColumnTransformer\n",
        "from sklearn.preprocessing import OneHotEncoder\n",
        "#the transformer accepts a tuple of three of encoder, which type of encoding (i.e OneHotEncoder)\n",
        "#and then remaining rows should not be affected that's why we use remainder and passthrough\n",
        "#these two arguments are neccessary in the columnTransformer class.\n",
        "ct = ColumnTransformer(transformers=[('encoder', OneHotEncoder(), [0])], remainder='passthrough')\n",
        "x = np.array(ct.fit_transform(x))\n",
        "print(x)"
      ],
      "execution_count": 8,
      "outputs": [
        {
          "output_type": "stream",
          "text": [
            "[[1.0 0.0 0.0 44.0 72000.0]\n",
            " [0.0 0.0 1.0 27.0 48000.0]\n",
            " [0.0 1.0 0.0 30.0 54000.0]\n",
            " [0.0 0.0 1.0 38.0 61000.0]\n",
            " [0.0 1.0 0.0 40.0 63777.77777777778]\n",
            " [1.0 0.0 0.0 35.0 58000.0]\n",
            " [0.0 0.0 1.0 38.77777777777778 52000.0]\n",
            " [1.0 0.0 0.0 48.0 79000.0]\n",
            " [0.0 1.0 0.0 50.0 83000.0]\n",
            " [1.0 0.0 0.0 37.0 67000.0]]\n"
          ],
          "name": "stdout"
        }
      ]
    },
    {
      "cell_type": "markdown",
      "metadata": {
        "id": "J_l56eBoOf2j"
      },
      "source": [
        "Encoding for the Dependent Data."
      ]
    },
    {
      "cell_type": "code",
      "metadata": {
        "id": "Mk63eE74Oo3F",
        "colab": {
          "base_uri": "https://localhost:8080/"
        },
        "outputId": "cefa5a76-99eb-412e-bce9-e93800bec77b"
      },
      "source": [
        "from sklearn.preprocessing import LabelEncoder\n",
        "le = LabelEncoder()\n",
        "y = le.fit_transform(y)\n",
        "print(y)"
      ],
      "execution_count": 9,
      "outputs": [
        {
          "output_type": "stream",
          "text": [
            "[0 1 0 0 1 1 0 1 0 1]\n"
          ],
          "name": "stdout"
        }
      ]
    },
    {
      "cell_type": "markdown",
      "metadata": {
        "id": "B0KbbUq-PGwA"
      },
      "source": [
        "Splitting the data into Training set and Test set."
      ]
    },
    {
      "cell_type": "code",
      "metadata": {
        "id": "4amdcNGUQDyA"
      },
      "source": [
        "  #the sklearn sklearn model_selection module is used to split the datasets into model training and test sets.\n",
        "#we can provide the percentage of train and test dataset by test_size argument in train_test_split.\n",
        "\n",
        "from sklearn.model_selection import train_test_split\n",
        "x_train, x_test, y_train, y_test = train_test_split(x, y, test_size=0.2, random_state = 1)"
      ],
      "execution_count": 10,
      "outputs": []
    },
    {
      "cell_type": "code",
      "metadata": {
        "id": "-VUZHhyzRo8I"
      },
      "source": [
        "print(x_train)  "
      ],
      "execution_count": null,
      "outputs": []
    },
    {
      "cell_type": "code",
      "metadata": {
        "id": "i3ALcnoaRpCD",
        "colab": {
          "base_uri": "https://localhost:8080/"
        },
        "outputId": "7bef9fc9-d2e7-4e34-93dc-1c4360cfaa8c"
      },
      "source": [
        "print(y_train)"
      ],
      "execution_count": 16,
      "outputs": [
        {
          "output_type": "stream",
          "text": [
            "[0 1 0 0 1 1 0 1]\n"
          ],
          "name": "stdout"
        }
      ]
    },
    {
      "cell_type": "code",
      "metadata": {
        "id": "CDUn6U_JRpJc"
      },
      "source": [
        "print(x_test)"
      ],
      "execution_count": null,
      "outputs": []
    },
    {
      "cell_type": "code",
      "metadata": {
        "id": "rzFDTQLmRpQK"
      },
      "source": [
        "print(y_test)"
      ],
      "execution_count": null,
      "outputs": []
    },
    {
      "cell_type": "markdown",
      "metadata": {
        "id": "bAgz3VWZSkxb"
      },
      "source": [
        "Feature Scaling."
      ]
    },
    {
      "cell_type": "code",
      "metadata": {
        "id": "x-GjCoD2Sm2c"
      },
      "source": [
        "# The feature scaling is applied after the datasets are divided into train and test.\n",
        "# This is important to avoid data leakage, the futture data on which model will be runned,\n",
        "# should not know the early feature scaling or data.\n",
        "\n",
        "# Feature Scaling\n",
        "# standardisation(all time applicable) and normaliastion(if data is normalised)\n",
        "\n",
        "from sklearn import preprocessing\n",
        "sc = preprocessing.StandardScaler()\n",
        "x_train[:, 3:] = sc.fit_transform(x_train[:, 3:])\n",
        "x_test[:, 3:] = sc.transform(x_test[:, 3:])  \n"
      ],
      "execution_count": 17,
      "outputs": []
    }
  ]
}