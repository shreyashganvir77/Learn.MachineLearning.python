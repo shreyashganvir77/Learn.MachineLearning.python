{
  "nbformat": 4,
  "nbformat_minor": 0,
  "metadata": {
    "colab": {
      "name": "Data Preprocessing.ipynb",
      "provenance": [],
      "authorship_tag": "ABX9TyOKSzR530NkdXV7Xs+KihUk",
      "include_colab_link": true
    },
    "kernelspec": {
      "name": "python3",
      "display_name": "Python 3"
    },
    "language_info": {
      "name": "python"
    }
  },
  "cells": [
    {
      "cell_type": "markdown",
      "metadata": {
        "id": "view-in-github",
        "colab_type": "text"
      },
      "source": [
        "<a href=\"https://colab.research.google.com/github/shreyashganvir77/Learn.MachineLearning.python/blob/main/Data_Preprocessing.ipynb\" target=\"_parent\"><img src=\"https://colab.research.google.com/assets/colab-badge.svg\" alt=\"Open In Colab\"/></a>"
      ]
    },
    {
      "cell_type": "markdown",
      "metadata": {
        "id": "x-qBg65DGLU3"
      },
      "source": [
        "Importing the libraries."
      ]
    },
    {
      "cell_type": "code",
      "metadata": {
        "id": "7A0vnvGcGPbO"
      },
      "source": [
        "import numpy as np\n",
        "import matplotlib.pyplot as plt\n",
        "import pandas as pd"
      ],
      "execution_count": null,
      "outputs": []
    },
    {
      "cell_type": "markdown",
      "metadata": {
        "id": "gQYjT_t_GX21"
      },
      "source": [
        "Importing the dataset."
      ]
    },
    {
      "cell_type": "code",
      "metadata": {
        "id": "C2tw-yCXGZ7l"
      },
      "source": [
        "#pandas library is used to read the csv file.\n",
        "#the data read is stored as a data frame, which can be accessed as the row and column matrix, with iloc fuction.\n",
        "dataset = pd.read_csv('Data.csv')\n",
        "x = dataset.iloc[ :, :-1].values\n",
        "y = dataset.iloc[ :, -1].values\n",
        "print(x)\n",
        "print(y)"
      ],
      "execution_count": null,
      "outputs": []
    },
    {
      "cell_type": "markdown",
      "metadata": {
        "id": "Lf-A02HSHWCo"
      },
      "source": [
        "Handling the missing data."
      ]
    },
    {
      "cell_type": "code",
      "metadata": {
        "id": "9RU_Pg48HjrM"
      },
      "source": [
        "#the missing values can be replaces with average of column.\n",
        "#or using mean and median also.\n",
        "#sklearn library\n",
        "\n",
        "from sklearn.impute import SimpleImputer\n",
        "imputer = SimpleImputer(missing_values=np.nan, strategy = 'mean')\n",
        "imputer.fit(x[:, 1:3])\n",
        "x[:, 1:3] = imputer.transform(x[:, 1:3])\n",
        "print(x)"
      ],
      "execution_count": null,
      "outputs": []
    },
    {
      "cell_type": "markdown",
      "metadata": {
        "id": "hC0yikYLKao-"
      },
      "source": [
        "Encoding Categorical Data."
      ]
    },
    {
      "cell_type": "code",
      "metadata": {
        "id": "LwMZmwtWKeby"
      },
      "source": [
        "#In encodings use the oneHotEncoding method which converts the repeating strings in the column into binary values.\n",
        "#For example France is encoded as 100, spain as 001 and germany as 010.\n",
        "\n",
        "from sklearn.compose import ColumnTransformer\n",
        "from sklearn.preprocessing import OneHotEncoder\n",
        "#the transformer accepts a tuple of three of encoder, which type of encoding (i.e OneHotEncoder)\n",
        "#and then remaining rows should not be affected that's why we use remainder and passthrough\n",
        "#these two arguments are neccessary in the columnTransformer class.\n",
        "ct = ColumnTransformer(transformers=[('encoder', OneHotEncoder(), [0])], remainder='passthrough')\n",
        "x = np.array(ct.fit_transform(x))\n",
        "print(x)"
      ],
      "execution_count": null,
      "outputs": []
    },
    {
      "cell_type": "markdown",
      "metadata": {
        "id": "J_l56eBoOf2j"
      },
      "source": [
        "Encoding for the Dependent Data."
      ]
    },
    {
      "cell_type": "code",
      "metadata": {
        "id": "Mk63eE74Oo3F"
      },
      "source": [
        "from sklearn.preprocessing import LabelEncoder\n",
        "le = LabelEncoder()\n",
        "y = le.fit_transform(y)\n",
        "print(y)"
      ],
      "execution_count": null,
      "outputs": []
    },
    {
      "cell_type": "markdown",
      "metadata": {
        "id": "B0KbbUq-PGwA"
      },
      "source": [
        "Splitting the data into Training set and Test set."
      ]
    },
    {
      "cell_type": "code",
      "metadata": {
        "id": "4amdcNGUQDyA"
      },
      "source": [
        "  #the sklearn sklearn model_selection module is used to split the datasets into model training and test sets.\n",
        "#we can provide the percentage of train and test dataset by test_size argument in train_test_split.\n",
        "\n",
        "from sklearn.model_selection import train_test_split\n",
        "x_train, x_test, y_train, y_test = train_test_split(x, y, test_size=0.2, random_state = 1)"
      ],
      "execution_count": null,
      "outputs": []
    },
    {
      "cell_type": "code",
      "metadata": {
        "id": "-VUZHhyzRo8I"
      },
      "source": [
        "print(x_train)  "
      ],
      "execution_count": null,
      "outputs": []
    },
    {
      "cell_type": "code",
      "metadata": {
        "id": "i3ALcnoaRpCD"
      },
      "source": [
        "print(y_train)"
      ],
      "execution_count": null,
      "outputs": []
    },
    {
      "cell_type": "code",
      "metadata": {
        "id": "CDUn6U_JRpJc"
      },
      "source": [
        "print(x_test)"
      ],
      "execution_count": null,
      "outputs": []
    },
    {
      "cell_type": "code",
      "metadata": {
        "id": "rzFDTQLmRpQK"
      },
      "source": [
        "print(y_test)"
      ],
      "execution_count": null,
      "outputs": []
    },
    {
      "cell_type": "markdown",
      "metadata": {
        "id": "bAgz3VWZSkxb"
      },
      "source": [
        "Feature Scaling."
      ]
    },
    {
      "cell_type": "code",
      "metadata": {
        "id": "x-GjCoD2Sm2c"
      },
      "source": [
        "# The feature scaling is applied after the datasets are divided into train and test.\n",
        "# This is important to avoid data leakage, the futture data on which model will be runned,\n",
        "# should not know the early feature scaling or data.\n",
        "\n",
        "# Feature Scaling\n",
        "# standardisation(all time applicable) and normaliastion(if data is normalised)\n",
        "\n"
      ],
      "execution_count": null,
      "outputs": []
    }
  ]
}