{
  "nbformat": 4,
  "nbformat_minor": 0,
  "metadata": {
    "colab": {
      "name": "Thopson's Sampling.ipynb",
      "provenance": [],
      "authorship_tag": "ABX9TyP+9gs9pjMI2kUZ5ApPxTfl",
      "include_colab_link": true
    },
    "kernelspec": {
      "name": "python3",
      "display_name": "Python 3"
    },
    "language_info": {
      "name": "python"
    }
  },
  "cells": [
    {
      "cell_type": "markdown",
      "metadata": {
        "id": "view-in-github",
        "colab_type": "text"
      },
      "source": [
        "<a href=\"https://colab.research.google.com/github/shreyashganvir77/Learn.MachineLearning.python/blob/main/Thopson's_Sampling.ipynb\" target=\"_parent\"><img src=\"https://colab.research.google.com/assets/colab-badge.svg\" alt=\"Open In Colab\"/></a>"
      ]
    },
    {
      "cell_type": "markdown",
      "metadata": {
        "id": "8RO77g2Ohu3h"
      },
      "source": [
        "Importing the Libraries."
      ]
    },
    {
      "cell_type": "code",
      "metadata": {
        "id": "WbQNCLLDhvg5"
      },
      "source": [
        "import pandas as pd\n",
        "import numpy as np\n",
        "import matplotlib.pyplot as plt"
      ],
      "execution_count": 16,
      "outputs": []
    },
    {
      "cell_type": "markdown",
      "metadata": {
        "id": "yfTjz_KXh71o"
      },
      "source": [
        "Importing the dataset."
      ]
    },
    {
      "cell_type": "code",
      "metadata": {
        "id": "y012Ewqhh-5W"
      },
      "source": [
        "dataset = pd.read_csv('Ads_CTR_Optimisation.csv')"
      ],
      "execution_count": 17,
      "outputs": []
    },
    {
      "cell_type": "markdown",
      "metadata": {
        "id": "8Z5LpHdGkiAB"
      },
      "source": [
        "Implementing the Thompson's Sampling."
      ]
    },
    {
      "cell_type": "code",
      "metadata": {
        "id": "y_TaTpShknOc"
      },
      "source": [
        "# The thompson's sampling is similar to UCB modelling, rather than exploration and exploitation for selection of the upper confidence bound.\n",
        "# Here we have probabilty distribution for each machine and then we pull the bandit's lever and plot each data on reward(x-axis). \n",
        "# Then the probabilty distribution is updated and then, this is continued till the rounds finished.\n",
        "\n",
        "# The thompson's sampling is probabilistic and can accomodate delayed feedback's.\n",
        "# Thompson's Sampling has better emperical evidences. \n",
        "\n",
        "import random\n",
        "N = 500\n",
        "d = 10\n",
        "ads_selected = []\n",
        "number_of_rewards_1 = [0]*d\n",
        "number_of_rewards_0 = [0]*d\n",
        "total_reward = 0\n",
        "\n",
        "for n in range(0, N):\n",
        "  ad = 0\n",
        "  max_random = 0\n",
        "  for i in range(0, d):\n",
        "    random_beta = random.betavariate(number_of_rewards_1[i]+1, number_of_rewards_0[i]+1)\n",
        "    if (max_random < random_beta):\n",
        "      max_random = random_beta\n",
        "      ad = i\n",
        "  ads_selected.append(ad)\n",
        "  reward = dataset.values[n, ad]\n",
        "  if reward == 1:\n",
        "    number_of_rewards_1[ad] += 1\n",
        "  else :\n",
        "    number_of_rewards_0[ad] += 1  \n",
        "  total_reward += reward"
      ],
      "execution_count": 18,
      "outputs": []
    },
    {
      "cell_type": "markdown",
      "metadata": {
        "id": "IcM7lA6LpwlR"
      },
      "source": [
        "Visualizing the Result - Histogram."
      ]
    },
    {
      "cell_type": "code",
      "metadata": {
        "colab": {
          "base_uri": "https://localhost:8080/",
          "height": 295
        },
        "id": "7T8YrvvRp1g9",
        "outputId": "2232b055-1839-4470-f2b3-a9864e3c7063"
      },
      "source": [
        "plt.hist(ads_selected)\n",
        "plt.title('Histogram of ads selections')\n",
        "plt.xlabel('Ads')\n",
        "plt.ylabel('Number of times each ad was selected')\n",
        "plt.show()"
      ],
      "execution_count": 19,
      "outputs": [
        {
          "output_type": "display_data",
          "data": {
            "image/png": "[encoded data removed]",
            "text/plain": [
              "<Figure size 432x288 with 1 Axes>"
            ]
          },
          "metadata": {
            "tags": [],
            "needs_background": "light"
          }
        }
      ]
    }
  ]
}